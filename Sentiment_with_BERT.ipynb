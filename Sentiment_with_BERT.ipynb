{
  "nbformat": 4,
  "nbformat_minor": 0,
  "metadata": {
    "colab": {
      "name": "Sentiment with BERT.ipynb",
      "provenance": [],
      "collapsed_sections": []
    },
    "kernelspec": {
      "name": "python3",
      "display_name": "Python 3"
    },
    "language_info": {
      "name": "python"
    },
    "accelerator": "GPU"
  },
  "cells": [
    {
      "cell_type": "markdown",
      "source": [
        "[Based on BERT Tensorflow Tutorial](https://www.tensorflow.org/text/tutorials/classify_text_with_bert)\n",
        "\n",
        "[Download Saved Model ](https://drive.google.com/file/d/1-01fDxnK-PGX8rm8fJOD8SYvgCkO1idG/view?usp=sharing)\n"
      ],
      "metadata": {
        "id": "JW46ET8q6eQb"
      }
    },
    {
      "cell_type": "markdown",
      "source": [
        "bert.zip is found in the \"Colab Notebooks\" folder on Google Drive"
      ],
      "metadata": {
        "id": "eNI6P2H0w8Kw"
      }
    },
    {
      "cell_type": "code",
      "source": [
        "from google.colab import drive\n",
        "drive.mount('/content/drive')\n",
        "!cp /content/drive/MyDrive/Colab\\ Notebooks/bert.zip ./"
      ],
      "metadata": {
        "colab": {
          "base_uri": "https://localhost:8080/"
        },
        "id": "jC5bjYac6IuZ",
        "outputId": "15726b73-c752-4474-f858-8aec5aea8375"
      },
      "execution_count": 1,
      "outputs": [
        {
          "output_type": "stream",
          "name": "stdout",
          "text": [
            "Mounted at /content/drive\n"
          ]
        }
      ]
    },
    {
      "cell_type": "code",
      "source": [
        "!unzip bert.zip"
      ],
      "metadata": {
        "colab": {
          "base_uri": "https://localhost:8080/"
        },
        "id": "FecysIwr4e_n",
        "outputId": "010a47ad-630c-481e-c849-f8ad55cc1b55"
      },
      "execution_count": 2,
      "outputs": [
        {
          "output_type": "stream",
          "name": "stdout",
          "text": [
            "Archive:  bert.zip\n",
            "   creating: imdb_bert/\n",
            "  inflating: imdb_bert/saved_model.pb  \n",
            "  inflating: imdb_bert/keras_metadata.pb  \n",
            "   creating: imdb_bert/assets/\n",
            "  inflating: imdb_bert/assets/vocab.txt  \n",
            "   creating: imdb_bert/variables/\n",
            "  inflating: imdb_bert/variables/variables.data-00000-of-00001  \n",
            "  inflating: imdb_bert/variables/variables.index  \n"
          ]
        }
      ]
    },
    {
      "cell_type": "code",
      "source": [
        "# A dependency of the preprocessing for BERT inputs\n",
        "!pip install -q -U \"tensorflow-text==2.8.*\"\n",
        "\n",
        "import tensorflow as tf\n",
        "import tensorflow_text as text"
      ],
      "metadata": {
        "id": "cznkSWlz4qxI",
        "colab": {
          "base_uri": "https://localhost:8080/"
        },
        "outputId": "9e8ef2dd-0860-4b18-f086-245ff19ecd04"
      },
      "execution_count": 3,
      "outputs": [
        {
          "output_type": "stream",
          "name": "stdout",
          "text": [
            "\u001b[K     |████████████████████████████████| 4.9 MB 4.7 MB/s \n",
            "\u001b[?25h"
          ]
        }
      ]
    },
    {
      "cell_type": "code",
      "source": [
        "dataset_name = 'imdb'\n",
        "saved_model_path = './{}_bert'.format(dataset_name.replace('/', '_'))\n",
        "reloaded_model = tf.saved_model.load(saved_model_path)"
      ],
      "metadata": {
        "id": "R4-VmQht4yyp"
      },
      "execution_count": 4,
      "outputs": []
    },
    {
      "cell_type": "code",
      "source": [
        "# Single text example\n",
        "text = \"It was great!\"\n",
        "reloaded_results = tf.sigmoid(reloaded_model(tf.constant([text])))\n",
        "reloaded_results[0].numpy()[0]"
      ],
      "metadata": {
        "id": "J_YFUQQ2wa1Z",
        "outputId": "0aa8da58-a11b-4573-cfad-ba764b6dad03",
        "colab": {
          "base_uri": "https://localhost:8080/"
        }
      },
      "execution_count": 5,
      "outputs": [
        {
          "output_type": "execute_result",
          "data": {
            "text/plain": [
              "0.9953766"
            ]
          },
          "metadata": {},
          "execution_count": 5
        }
      ]
    },
    {
      "cell_type": "code",
      "source": [
        "# List of text example\n",
        "examples = [\"It was great!\",\"It was awful!\"]\n",
        "reloaded_results = tf.sigmoid(reloaded_model(tf.constant(examples)))\n",
        "\n",
        "for i in range(len(examples)):\n",
        "  print(examples[i], reloaded_results[i].numpy()[0])"
      ],
      "metadata": {
        "colab": {
          "base_uri": "https://localhost:8080/"
        },
        "id": "6UgcqS1T50Rx",
        "outputId": "e965d686-91d2-49f6-99d7-777c4ad04b42"
      },
      "execution_count": 6,
      "outputs": [
        {
          "output_type": "stream",
          "name": "stdout",
          "text": [
            "It was great! 0.9953766\n",
            "It was awful! 0.0072915177\n"
          ]
        }
      ]
    },
    {
      "cell_type": "markdown",
      "source": [
        "0 = Negative\n",
        "\n",
        "1 = Positive"
      ],
      "metadata": {
        "id": "GRSJXhOCwlzA"
      }
    }
  ]
}