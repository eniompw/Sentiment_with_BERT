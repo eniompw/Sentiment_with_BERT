{
  "nbformat": 4,
  "nbformat_minor": 0,
  "metadata": {
    "colab": {
      "name": "Sentiment with BERT.ipynb",
      "provenance": [],
      "collapsed_sections": [],
      "include_colab_link": true
    },
    "kernelspec": {
      "name": "python3",
      "display_name": "Python 3"
    },
    "language_info": {
      "name": "python"
    },
    "accelerator": "GPU"
  },
  "cells": [
    {
      "cell_type": "markdown",
      "metadata": {
        "id": "view-in-github",
        "colab_type": "text"
      },
      "source": [
        "<a href=\"https://colab.research.google.com/github/eniompw/Sentiment_with_BERT/blob/main/Sentiment_with_BERT.ipynb\" target=\"_parent\"><img src=\"https://colab.research.google.com/assets/colab-badge.svg\" alt=\"Open In Colab\"/></a>"
      ]
    },
    {
      "cell_type": "markdown",
      "source": [
        "[Based on BERT Tensorflow Tutorial](https://www.tensorflow.org/text/tutorials/classify_text_with_bert)\n",
        "\n",
        "[Download Saved Model ](https://drive.google.com/file/d/1-01fDxnK-PGX8rm8fJOD8SYvgCkO1idG/view?usp=sharing)\n"
      ],
      "metadata": {
        "id": "JW46ET8q6eQb"
      }
    },
    {
      "cell_type": "code",
      "source": [
        "from google.colab import drive\n",
        "drive.mount('/content/drive')"
      ],
      "metadata": {
        "colab": {
          "base_uri": "https://localhost:8080/"
        },
        "id": "jC5bjYac6IuZ",
        "outputId": "b58f9d0c-ea93-49d0-cd25-6d97ea72da72"
      },
      "execution_count": 1,
      "outputs": [
        {
          "output_type": "stream",
          "name": "stdout",
          "text": [
            "Mounted at /content/drive\n"
          ]
        }
      ]
    },
    {
      "cell_type": "code",
      "source": [
        "!cp /content/drive/MyDrive/Colab\\ Notebooks/bert.zip ./"
      ],
      "metadata": {
        "id": "9dCSnWiR6J2R"
      },
      "execution_count": 2,
      "outputs": []
    },
    {
      "cell_type": "code",
      "source": [
        "!unzip bert.zip"
      ],
      "metadata": {
        "colab": {
          "base_uri": "https://localhost:8080/"
        },
        "id": "FecysIwr4e_n",
        "outputId": "4298a97c-13bc-4775-de3e-7b197866af19"
      },
      "execution_count": 3,
      "outputs": [
        {
          "output_type": "stream",
          "name": "stdout",
          "text": [
            "Archive:  bert.zip\n",
            "   creating: imdb_bert/\n",
            "  inflating: imdb_bert/saved_model.pb  \n",
            "  inflating: imdb_bert/keras_metadata.pb  \n",
            "   creating: imdb_bert/assets/\n",
            "  inflating: imdb_bert/assets/vocab.txt  \n",
            "   creating: imdb_bert/variables/\n",
            "  inflating: imdb_bert/variables/variables.data-00000-of-00001  \n",
            "  inflating: imdb_bert/variables/variables.index  \n"
          ]
        }
      ]
    },
    {
      "cell_type": "code",
      "source": [
        "# A dependency of the preprocessing for BERT inputs\n",
        "!pip install -q -U \"tensorflow-text==2.8.*\"\n",
        "\n",
        "import tensorflow as tf\n",
        "import tensorflow_text as text"
      ],
      "metadata": {
        "id": "cznkSWlz4qxI",
        "colab": {
          "base_uri": "https://localhost:8080/"
        },
        "outputId": "a710104c-1db4-4057-f5c8-6e49acd3b706"
      },
      "execution_count": 4,
      "outputs": [
        {
          "output_type": "stream",
          "name": "stdout",
          "text": [
            "\u001b[K     |████████████████████████████████| 4.9 MB 5.2 MB/s \n",
            "\u001b[K     |████████████████████████████████| 462 kB 45.2 MB/s \n",
            "\u001b[?25h"
          ]
        }
      ]
    },
    {
      "cell_type": "code",
      "source": [
        "dataset_name = 'imdb'\n",
        "saved_model_path = './{}_bert'.format(dataset_name.replace('/', '_'))"
      ],
      "metadata": {
        "id": "R4-VmQht4yyp"
      },
      "execution_count": 5,
      "outputs": []
    },
    {
      "cell_type": "code",
      "execution_count": 6,
      "metadata": {
        "id": "WKBj7ysY4Hs1"
      },
      "outputs": [],
      "source": [
        "reloaded_model = tf.saved_model.load(saved_model_path)"
      ]
    },
    {
      "cell_type": "code",
      "source": [
        "examples = [\"It was great!\",\"It was awful!\"] # List of test examples\n",
        "reloaded_results = tf.sigmoid(reloaded_model(tf.constant(examples)))\n",
        "\n",
        "for i in range(len(examples)):\n",
        "  print(examples[i], reloaded_results[i].numpy()[0])"
      ],
      "metadata": {
        "colab": {
          "base_uri": "https://localhost:8080/"
        },
        "id": "6UgcqS1T50Rx",
        "outputId": "e359ae06-6fd5-4506-e258-35bc86436a2a"
      },
      "execution_count": 7,
      "outputs": [
        {
          "output_type": "stream",
          "name": "stdout",
          "text": [
            "It was great! 0.9953766\n",
            "It was awful! 0.007291531\n"
          ]
        }
      ]
    }
  ]
}