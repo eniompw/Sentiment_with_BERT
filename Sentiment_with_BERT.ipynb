{
  "nbformat": 4,
  "nbformat_minor": 0,
  "metadata": {
    "colab": {
      "name": "Sentiment with BERT.ipynb",
      "provenance": [],
      "collapsed_sections": [],
      "authorship_tag": "ABX9TyOq2cuxhc+MVtzrgsyA8uyE",
      "include_colab_link": true
    },
    "kernelspec": {
      "name": "python3",
      "display_name": "Python 3"
    },
    "language_info": {
      "name": "python"
    }
  },
  "cells": [
    {
      "cell_type": "markdown",
      "metadata": {
        "id": "view-in-github",
        "colab_type": "text"
      },
      "source": [
        "<a href=\"https://colab.research.google.com/github/eniompw/Sentiment_with_BERT/blob/main/Sentiment_with_BERT.ipynb\" target=\"_parent\"><img src=\"https://colab.research.google.com/assets/colab-badge.svg\" alt=\"Open In Colab\"/></a>"
      ]
    },
    {
      "cell_type": "markdown",
      "source": [
        "[Based on BERT Tensorflow Tutorial](https://www.tensorflow.org/text/tutorials/classify_text_with_bert)\n",
        "\n",
        "[Download Saved Model ](https://drive.google.com/file/d/1-01fDxnK-PGX8rm8fJOD8SYvgCkO1idG/view?usp=sharing)\n"
      ],
      "metadata": {
        "id": "JW46ET8q6eQb"
      }
    },
    {
      "cell_type": "code",
      "source": [
        "from google.colab import drive\n",
        "drive.mount('/content/drive')"
      ],
      "metadata": {
        "colab": {
          "base_uri": "https://localhost:8080/"
        },
        "id": "jC5bjYac6IuZ",
        "outputId": "89dc4634-949e-4a13-d92a-b7777a7be23d"
      },
      "execution_count": null,
      "outputs": [
        {
          "output_type": "stream",
          "name": "stdout",
          "text": [
            "Mounted at /content/drive\n"
          ]
        }
      ]
    },
    {
      "cell_type": "code",
      "source": [
        "!cp /content/drive/MyDrive/Colab\\ Notebooks/bert.zip ./"
      ],
      "metadata": {
        "id": "9dCSnWiR6J2R"
      },
      "execution_count": null,
      "outputs": []
    },
    {
      "cell_type": "code",
      "source": [
        "!unzip bert.zip"
      ],
      "metadata": {
        "colab": {
          "base_uri": "https://localhost:8080/"
        },
        "id": "FecysIwr4e_n",
        "outputId": "284d9cda-4db3-492c-ce20-a141b09e0cb6"
      },
      "execution_count": null,
      "outputs": [
        {
          "output_type": "stream",
          "name": "stdout",
          "text": [
            "Archive:  bert.zip\n",
            "   creating: imdb_bert/\n",
            "  inflating: imdb_bert/saved_model.pb  \n",
            "  inflating: imdb_bert/keras_metadata.pb  \n",
            "   creating: imdb_bert/assets/\n",
            "  inflating: imdb_bert/assets/vocab.txt  \n",
            "   creating: imdb_bert/variables/\n",
            "  inflating: imdb_bert/variables/variables.data-00000-of-00001  \n",
            "  inflating: imdb_bert/variables/variables.index  \n"
          ]
        }
      ]
    },
    {
      "cell_type": "code",
      "source": [
        "# A dependency of the preprocessing for BERT inputs\n",
        "!pip install -q -U \"tensorflow-text==2.8.*\"\n",
        "\n",
        "import tensorflow as tf\n",
        "import tensorflow_text as text"
      ],
      "metadata": {
        "id": "cznkSWlz4qxI",
        "colab": {
          "base_uri": "https://localhost:8080/"
        },
        "outputId": "00930962-bd41-4a1b-89ac-d52e13fdab93"
      },
      "execution_count": null,
      "outputs": [
        {
          "output_type": "stream",
          "name": "stdout",
          "text": [
            "\u001b[K     |████████████████████████████████| 4.9 MB 7.2 MB/s \n",
            "\u001b[K     |████████████████████████████████| 462 kB 51.5 MB/s \n",
            "\u001b[?25h"
          ]
        }
      ]
    },
    {
      "cell_type": "code",
      "source": [
        "dataset_name = 'imdb'\n",
        "saved_model_path = './{}_bert'.format(dataset_name.replace('/', '_'))"
      ],
      "metadata": {
        "id": "R4-VmQht4yyp"
      },
      "execution_count": null,
      "outputs": []
    },
    {
      "cell_type": "code",
      "execution_count": null,
      "metadata": {
        "id": "WKBj7ysY4Hs1"
      },
      "outputs": [],
      "source": [
        "reloaded_model = tf.saved_model.load(saved_model_path)"
      ]
    },
    {
      "cell_type": "code",
      "source": [
        "def print_my_examples(inputs, results):\n",
        "  result_for_printing = \\\n",
        "    [f'input: {inputs[i]:<30} : score: {results[i][0]:.6f}'\n",
        "                         for i in range(len(inputs))]\n",
        "  print(*result_for_printing, sep='\\n')\n",
        "  print()"
      ],
      "metadata": {
        "id": "aHss_2dR5v-h"
      },
      "execution_count": null,
      "outputs": []
    },
    {
      "cell_type": "code",
      "source": [
        "examples = [\"It was great!\"]\n",
        "\n",
        "serving_results = reloaded_model \\\n",
        "            .signatures['serving_default'](tf.constant(examples))\n",
        "\n",
        "serving_results = tf.sigmoid(serving_results['classifier'])\n",
        "\n",
        "print_my_examples(examples, serving_results)"
      ],
      "metadata": {
        "colab": {
          "base_uri": "https://localhost:8080/"
        },
        "id": "6UgcqS1T50Rx",
        "outputId": "79697f87-9727-4b21-e30c-e260475179f3"
      },
      "execution_count": null,
      "outputs": [
        {
          "output_type": "stream",
          "name": "stdout",
          "text": [
            "input: It was great!                  : score: 0.995377\n",
            "\n"
          ]
        }
      ]
    }
  ]
}
