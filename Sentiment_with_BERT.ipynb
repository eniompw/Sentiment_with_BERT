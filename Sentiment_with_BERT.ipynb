{
  "nbformat": 4,
  "nbformat_minor": 0,
  "metadata": {
    "colab": {
      "name": "Sentiment with BERT.ipynb",
      "provenance": [],
      "collapsed_sections": []
    },
    "kernelspec": {
      "name": "python3",
      "display_name": "Python 3"
    },
    "language_info": {
      "name": "python"
    },
    "accelerator": "GPU"
  },
  "cells": [
    {
      "cell_type": "code",
      "source": [
        "# Download Pretrained BERT model\n",
        "!wget https://gitlab.com/eniompw/Sentiment_with_BERT/-/raw/main/bert.zip\n",
        "!unzip bert.zip"
      ],
      "metadata": {
        "id": "f6OlDn2JV10Q",
        "outputId": "85b41f6f-f95b-4c97-fbef-2ed8ff628a8b",
        "colab": {
          "base_uri": "https://localhost:8080/"
        }
      },
      "execution_count": 8,
      "outputs": [
        {
          "output_type": "stream",
          "name": "stdout",
          "text": [
            "--2022-09-29 08:25:31--  https://gitlab.com/eniompw/Sentiment_with_BERT/-/raw/main/bert.zip\n",
            "Resolving gitlab.com (gitlab.com)... 172.65.251.78, 2606:4700:90:0:f22e:fbec:5bed:a9b9\n",
            "Connecting to gitlab.com (gitlab.com)|172.65.251.78|:443... connected.\n",
            "HTTP request sent, awaiting response... 200 OK\n",
            "Length: 108413034 (103M) [application/octet-stream]\n",
            "Saving to: ‘bert.zip’\n",
            "\n",
            "bert.zip            100%[===================>] 103.39M   126MB/s    in 0.8s    \n",
            "\n",
            "2022-09-29 08:25:32 (126 MB/s) - ‘bert.zip’ saved [108413034/108413034]\n",
            "\n",
            "Archive:  bert.zip\n",
            "   creating: imdb_bert/\n",
            "  inflating: imdb_bert/saved_model.pb  \n",
            "  inflating: imdb_bert/keras_metadata.pb  \n",
            "   creating: imdb_bert/assets/\n",
            "  inflating: imdb_bert/assets/vocab.txt  \n",
            "   creating: imdb_bert/variables/\n",
            "  inflating: imdb_bert/variables/variables.data-00000-of-00001  \n",
            "  inflating: imdb_bert/variables/variables.index  \n"
          ]
        }
      ]
    },
    {
      "cell_type": "code",
      "source": [
        "# A dependency of the preprocessing for BERT inputs\n",
        "!pip install -q -U \"tensorflow-text==2.8.*\"\n",
        "\n",
        "import tensorflow as tf\n",
        "import tensorflow_text as text"
      ],
      "metadata": {
        "id": "cznkSWlz4qxI"
      },
      "execution_count": 9,
      "outputs": []
    },
    {
      "cell_type": "code",
      "source": [
        "# Load Model\n",
        "saved_model_path = './imdb_bert'\n",
        "reloaded_model = tf.saved_model.load(saved_model_path)"
      ],
      "metadata": {
        "id": "R4-VmQht4yyp"
      },
      "execution_count": 10,
      "outputs": []
    },
    {
      "cell_type": "code",
      "source": [
        "text = \"It was great!\"    # Input text goes here!\n",
        "\n",
        "reloaded_results = tf.sigmoid(reloaded_model(tf.constant([text])))\n",
        "if reloaded_results[0].numpy()[0] > 0.5:\n",
        "  print(\"Positive\")\n",
        "else:\n",
        "  print(\"Negative\")\n"
      ],
      "metadata": {
        "id": "J_YFUQQ2wa1Z",
        "outputId": "99a64522-5aa0-4f8f-87ca-1bbc2efd4390",
        "colab": {
          "base_uri": "https://localhost:8080/"
        }
      },
      "execution_count": 11,
      "outputs": [
        {
          "output_type": "stream",
          "name": "stdout",
          "text": [
            "Positive\n"
          ]
        }
      ]
    }
  ]
}